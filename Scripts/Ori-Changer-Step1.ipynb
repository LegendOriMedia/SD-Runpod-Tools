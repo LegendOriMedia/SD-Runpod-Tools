{
 "cells": [
  {
   "cell_type": "markdown",
   "id": "71991e23-35bc-42de-bbd8-5eea782f84a6",
   "metadata": {
    "tags": []
   },
   "source": [
    "# Welcome to my icon changing tool"
   ]
  },
  {
   "cell_type": "code",
   "execution_count": 1,
   "id": "fde7efd3-eee4-48a1-923a-fcac45543af7",
   "metadata": {
    "jupyter": {
     "source_hidden": true
    },
    "tags": []
   },
   "outputs": [
    {
     "data": {
      "text/html": [
       "<img src=\"https://raw.githubusercontent.com/LegendOriMedia/SD-Runpod-Tools/main/Graphics/Icon_Changer_top_graphic.jpg\">\n"
      ],
      "text/plain": [
       "<IPython.core.display.HTML object>"
      ]
     },
     "metadata": {},
     "output_type": "display_data"
    }
   ],
   "source": [
    "%%html\n",
    "<img src=\"https://raw.githubusercontent.com/LegendOriMedia/SD-Runpod-Tools/main/Graphics/Icon_Changer_top_graphic.jpg\">\n"
   ]
  },
  {
   "cell_type": "markdown",
   "id": "f0fbdba3-d2ce-4714-8d15-184779a4a0f7",
   "metadata": {
    "tags": []
   },
   "source": [
    "# STEP 1: Jupyter Icon\n",
    "## Press play / Pick a number / Check tab."
   ]
  },
  {
   "cell_type": "code",
   "execution_count": 2,
   "id": "e1cd51d2-5abc-4f53-a306-271fc3f8d440",
   "metadata": {
    "tags": []
   },
   "outputs": [
    {
     "data": {
      "text/html": [
       " <h1>What number would you like this Stable Diffusion icon to be?</h1>\n",
       "    <div id=\"buttons\"></div>\n",
       "    <script>\n",
       "        // Generate the buttons\n",
       "        var colors = ['#0000ff', '#ff8800', '#ff0088', '#dd8888', '#44bb44', '#00ffff', '#aa0055', '#ffffaa', '#ffaaaa', '#aaffaa'];\n",
       "        var buttonsDiv = document.getElementById('buttons');\n",
       "        for (var i = 1; i <= 10; i++) {\n",
       "            var button = document.createElement('button');\n",
       "            button.innerHTML = i;\n",
       "            button.className = 'button';\n",
       "            button.style.backgroundColor = colors[i-1];\n",
       "            button.onclick = function() {\n",
       "                run_script(this.innerHTML);\n",
       "            };\n",
       "            buttonsDiv.appendChild(button);\n",
       "        }\n",
       "\n",
       "        // Function to run when a button is clicked\n",
       "        function run_script(script_number) {\n",
       "            // Download and run the Python script\n",
       "            var xhr = new XMLHttpRequest();\n",
       "            xhr.open('GET', 'https://raw.githubusercontent.com/LegendOriMedia/SD-Runpod-Tools/main/Scripts/s' + script_number + '.py');\n",
       "            xhr.onload = function() {\n",
       "                if (xhr.status === 200) {\n",
       "                    eval(xhr.responseText);\n",
       "                } else {\n",
       "                    alert('Request failed.  Returned status of ' + xhr.status);\n",
       "                }\n",
       "            };\n",
       "            xhr.send();\n",
       "\n",
       "            // Change the favicon\n",
       "            var link = document.querySelector(\"link[rel*='icon']\") || document.createElement('link');\n",
       "            link.type = 'image/x-icon';\n",
       "            link.rel = 'shortcut icon';\n",
       "            link.href = 'https://raw.githubusercontent.com/LegendOriMedia/SD-Runpod-Tools/main/Favicons/j' + script_number + '.ico';\n",
       "            document.getElementsByTagName('head')[0].appendChild(link);\n",
       "        }\n",
       "    </script>\n"
      ],
      "text/plain": [
       "<IPython.core.display.HTML object>"
      ]
     },
     "metadata": {},
     "output_type": "display_data"
    }
   ],
   "source": [
    "%%html\n",
    " <h1>What number would you like this Jupyter icon to be?</h1>\n",
    "    <div id=\"buttons\"></div>\n",
    "    <script>\n",
    "        // Generate the buttons\n",
    "        var colors = ['#0000ff', '#ff8800', '#ff0088', '#dd8888', '#44bb44', '#00ffff', '#aa0055', '#ffffaa', '#ffaaaa', '#aaffaa'];\n",
    "        var buttonsDiv = document.getElementById('buttons');\n",
    "        for (var i = 1; i <= 10; i++) {\n",
    "            var button = document.createElement('button');\n",
    "            button.innerHTML = i;\n",
    "            button.className = 'button';\n",
    "            button.style.backgroundColor = colors[i-1];\n",
    "            button.onclick = function() {\n",
    "                run_script(this.innerHTML);\n",
    "            };\n",
    "            buttonsDiv.appendChild(button);\n",
    "        }\n",
    "\n",
    "        // Function to run when a button is clicked\n",
    "        function run_script(script_number) {\n",
    "            // Download and run the Python script\n",
    "            var xhr = new XMLHttpRequest();\n",
    "            xhr.open('GET', 'https://raw.githubusercontent.com/LegendOriMedia/SD-Runpod-Tools/main/Scripts/s' + script_number + '.py');\n",
    "            xhr.onload = function() {\n",
    "                if (xhr.status === 200) {\n",
    "                    eval(xhr.responseText);\n",
    "                } else {\n",
    "                    alert('Request failed.  Returned status of ' + xhr.status);\n",
    "                }\n",
    "            };\n",
    "            xhr.send();\n",
    "\n",
    "            // Change the favicon\n",
    "            var link = document.querySelector(\"link[rel*='icon']\") || document.createElement('link');\n",
    "            link.type = 'image/x-icon';\n",
    "            link.rel = 'shortcut icon';\n",
    "            link.href = 'https://raw.githubusercontent.com/LegendOriMedia/SD-Runpod-Tools/main/Favicons/j' + script_number + '.ico';\n",
    "            document.getElementsByTagName('head')[0].appendChild(link);\n",
    "        }\n",
    "    </script>"
   ]
  }
 ],
 "metadata": {
  "kernelspec": {
   "display_name": "Python 3 (ipykernel)",
   "language": "python",
   "name": "python3"
  },
  "language_info": {
   "codemirror_mode": {
    "name": "ipython",
    "version": 3
   },
   "file_extension": ".py",
   "mimetype": "text/x-python",
   "name": "python",
   "nbconvert_exporter": "python",
   "pygments_lexer": "ipython3",
   "version": "3.10.12"
  }
 },
 "nbformat": 4,
 "nbformat_minor": 5
}
