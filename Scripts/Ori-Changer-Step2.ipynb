{
 "cells": [
  {
   "cell_type": "markdown",
   "id": "71991e23-35bc-42de-bbd8-5eea782f84a6",
   "metadata": {
    "tags": []
   },
   "source": [
    "# Welcome to my icon changing tool"
   ]
  },
  {
   "cell_type": "code",
   "execution_count": 1,
   "id": "fde7efd3-eee4-48a1-923a-fcac45543af7",
   "metadata": {
    "jupyter": {
     "source_hidden": true
    },
    "tags": []
   },
   "outputs": [
    {
     "data": {
      "text/html": [
       "<img src=\"https://raw.githubusercontent.com/LegendOriMedia/SD-Runpod-Tools/main/Graphics/Icon_Changer_top_graphic.jpg\">\n"
      ],
      "text/plain": [
       "<IPython.core.display.HTML object>"
      ]
     },
     "metadata": {},
     "output_type": "display_data"
    }
   ],
   "source": [
    "%%html\n",
    "<img src=\"https://raw.githubusercontent.com/LegendOriMedia/SD-Runpod-Tools/main/Graphics/Icon_Changer_top_graphic.jpg\">\n"
   ]
  },
  {
   "cell_type": "code",
   "execution_count": null,
   "id": "a8a3b7e1-d73a-4290-86e9-762985cf168d",
   "metadata": {},
   "outputs": [],
   "source": []
  },
  {
   "cell_type": "markdown",
   "id": "941fa723-232f-4bd9-a523-e0d854126f9a",
   "metadata": {},
   "source": [
    "# Step 2: Stable Diffusion\n",
    "## Play - Choose number - Restart server - Hard refresh tab (ctrl F5 usually works)"
   ]
  },
  {
   "cell_type": "code",
   "execution_count": 3,
   "id": "e0ac5376-a7d9-4fee-a951-8fd35dae7182",
   "metadata": {},
   "outputs": [
    {
     "data": {
      "text/html": [
       "<h1 style=\"font-size: 2em; font-weight: bold;\">What number would you like this Stable Diffusion icon to be?</h1>"
      ],
      "text/plain": [
       "<IPython.core.display.HTML object>"
      ]
     },
     "metadata": {},
     "output_type": "display_data"
    },
    {
     "data": {
      "application/vnd.jupyter.widget-view+json": {
       "model_id": "20590931074f4e1da7268e5bb8a6071f",
       "version_major": 2,
       "version_minor": 0
      },
      "text/plain": [
       "HBox(children=(VBox(children=(Button(description='1', style=ButtonStyle(button_color='#0000ff')), Button(descr…"
      ]
     },
     "metadata": {},
     "output_type": "display_data"
    },
    {
     "data": {
      "application/vnd.jupyter.widget-view+json": {
       "model_id": "10bfa192ba034eb1b05cb1d2aa4126fc",
       "version_major": 2,
       "version_minor": 0
      },
      "text/plain": [
       "VBox(children=(Checkbox(value=False, description='I use a different directory than /workspace/stable-diffusion…"
      ]
     },
     "metadata": {},
     "output_type": "display_data"
    }
   ],
   "source": [
    "# Made you this tool to easily identify which Stable Diffusion Pod is which by having a colorful easy to read icon.\n",
    "from IPython.display import display, HTML\n",
    "from ipywidgets import Button, HBox, VBox, Checkbox, Text, Label, Layout\n",
    "import os\n",
    "\n",
    "def run_script(b):\n",
    "    script_number = b.description\n",
    "    os.system(f'wget https://raw.githubusercontent.com/LegendOriMedia/SD-Runpod-Tools/main/Scripts/s{script_number}.py -O /tmp/script.py')\n",
    "    \n",
    "    if checkbox.value:\n",
    "        sd_path = text.value\n",
    "        os.system(f'python /tmp/script.py --sd-path \"{sd_path}\"')\n",
    "    else:\n",
    "        os.system('python /tmp/script.py')\n",
    "    \n",
    "    # Remove the /tmp/script.py file\n",
    "    os.remove('/tmp/script.py')\n",
    "\n",
    "\n",
    "display(HTML('<h1 style=\"font-size: 2em; font-weight: bold;\">What number would you like this Stable Diffusion icon to be?</h1>'))\n",
    "\n",
    "column1 = []\n",
    "colors = ['#0000ff', '#ff8800', '#ff0088', '#dd8888', '#44bb44', '#00ffff', '#aa0055', '#ffffaa', '#ffaaaa', '#aaffaa']\n",
    "for i in range(1, 6):\n",
    "    button = Button(description=str(i))\n",
    "    button.style.button_color = colors[i-1]\n",
    "    button.on_click(run_script)\n",
    "    column1.append(button)\n",
    "\n",
    "column2 = []\n",
    "for i in range(6, 11):\n",
    "    button = Button(description=str(i))\n",
    "    button.style.button_color = colors[i-1]\n",
    "    button.on_click(run_script)\n",
    "    column2.append(button)\n",
    "\n",
    "display(HBox([VBox(column1), VBox(column2)]))\n",
    "\n",
    "checkbox = Checkbox(description='I use a different directory than /workspace/stable-diffusion-webui')\n",
    "text = Text()\n",
    "label = Label(value='Where is your Stable Diffusion installed?')\n",
    "input_box = VBox([label, text])\n",
    "\n",
    "def on_checkbox_change(change):\n",
    "    if change['new']:\n",
    "        input_box.layout.display = ''\n",
    "    else:\n",
    "        input_box.layout.display = 'none'\n",
    "\n",
    "checkbox.observe(on_checkbox_change, names='value')\n",
    "input_box.layout.display = 'none'\n",
    "\n",
    "display(VBox([checkbox, input_box]))\n",
    "\n",
    "checkbox.layout = Layout(width='500px')\n",
    "text.layout = Layout(width='500px')\n"
   ]
  },
  {
   "cell_type": "code",
   "execution_count": null,
   "id": "55b435e2-7ceb-45e4-8dd6-6c828dbc2d51",
   "metadata": {},
   "outputs": [],
   "source": []
  }
 ],
 "metadata": {
  "kernelspec": {
   "display_name": "Python 3 (ipykernel)",
   "language": "python",
   "name": "python3"
  },
  "language_info": {
   "codemirror_mode": {
    "name": "ipython",
    "version": 3
   },
   "file_extension": ".py",
   "mimetype": "text/x-python",
   "name": "python",
   "nbconvert_exporter": "python",
   "pygments_lexer": "ipython3",
   "version": "3.10.12"
  }
 },
 "nbformat": 4,
 "nbformat_minor": 5
}
