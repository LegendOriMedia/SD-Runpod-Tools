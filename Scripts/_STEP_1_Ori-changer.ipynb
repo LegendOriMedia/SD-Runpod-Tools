{
 "cells": [
  {
   "cell_type": "code",
   "execution_count": 5,
   "id": "c528cf19-10fc-448d-b595-388bed3a77fd",
   "metadata": {
    "jupyter": {
     "source_hidden": true
    }
   },
   "outputs": [
    {
     "data": {
      "text/html": [
       "<img src=\"https://raw.githubusercontent.com/LegendOriMedia/SD-Runpod-Tools/main/Graphics/Icon_Changer_top_graphic.jpg\">\n"
      ],
      "text/plain": [
       "<IPython.core.display.HTML object>"
      ]
     },
     "metadata": {},
     "output_type": "display_data"
    }
   ],
   "source": [
    "%%html\n",
    "<img src=\"https://raw.githubusercontent.com/LegendOriMedia/SD-Runpod-Tools/main/Graphics/Icon_Changer_top_graphic.jpg\">\n"
   ]
  },
  {
   "cell_type": "code",
   "execution_count": 8,
   "id": "1f304d9b-7302-4d30-bbb9-ff97ec9afa94",
   "metadata": {},
   "outputs": [
    {
     "data": {
      "text/html": [
       "<h1 style=\"font-size: 2em; font-weight: bold;\">What number would you like this Stable Diffusion icon to be?</h1>"
      ],
      "text/plain": [
       "<IPython.core.display.HTML object>"
      ]
     },
     "metadata": {},
     "output_type": "display_data"
    },
    {
     "data": {
      "application/vnd.jupyter.widget-view+json": {
       "model_id": "7f95dbe1a5344093bb6ca40906b8166f",
       "version_major": 2,
       "version_minor": 0
      },
      "text/plain": [
       "HBox(children=(VBox(children=(Button(description='1', style=ButtonStyle(button_color='#0000ff')), Button(descr…"
      ]
     },
     "metadata": {},
     "output_type": "display_data"
    },
    {
     "data": {
      "application/vnd.jupyter.widget-view+json": {
       "model_id": "2b5382c2a0ff4894a950ed0da538b2fa",
       "version_major": 2,
       "version_minor": 0
      },
      "text/plain": [
       "VBox(children=(Checkbox(value=False, description='I use a different directory than /workspace/stable-diffusion…"
      ]
     },
     "metadata": {},
     "output_type": "display_data"
    }
   ],
   "source": [
    "# Made you this tool to easily identify which Stable Diffusion Pod is which by having a colorful easy to read icon.\n",
    "from IPython.display import display, HTML, clear_output\n",
    "from ipywidgets import Button, HBox, VBox, Checkbox, Text, Label, Layout\n",
    "import os\n",
    "import nbformat\n",
    "from nbformat.v4 import new_notebook, new_code_cell\n",
    "\n",
    "def run_script(b):\n",
    "    script_number = b.description\n",
    "    os.system(f'wget https://raw.githubusercontent.com/LegendOriMedia/SD-Runpod-Tools/main/Scripts/s{script_number}.py -O /tmp/script.py')\n",
    "    \n",
    "    if checkbox.value:\n",
    "        sd_path = text.value\n",
    "        os.system(f'python /tmp/script.py --sd-path \"{sd_path}\"')\n",
    "    else:\n",
    "        os.system('python /tmp/script.py')\n",
    "    \n",
    "    # Rename the /tmp/script.py file\n",
    "    original_filename = '/tmp/script.py'\n",
    "    new_filename = '/tmp/script1.py'\n",
    "    i = 1\n",
    "\n",
    "    while os.path.exists(new_filename):\n",
    "        i += 1\n",
    "        new_filename = f'/tmp/script{i}.py'\n",
    "\n",
    "    os.rename(original_filename, new_filename)\n",
    "\n",
    "    # Create a new Jupyter notebook object\n",
    "    nb = new_notebook()\n",
    "\n",
    "    # Create a new code cell with the JavaScript code\n",
    "    js_code = f\"\"\"%%js\n",
    "(function() {{\n",
    "    var link = document.querySelector(\"link[rel*='icon']\") || document.createElement('link');\n",
    "    link.type = 'image/x-icon';\n",
    "    link.rel = 'shortcut icon';\n",
    "    link.href = 'https://raw.githubusercontent.com/LegendOriMedia/SD-Runpod-Tools/main/Favicons/j{script_number}.ico';\n",
    "    document.getElementsByTagName('head')[0].appendChild(link);\n",
    "}})();\"\"\"\n",
    "    cell = new_code_cell(js_code)\n",
    "\n",
    "    # Add the cell to the notebook\n",
    "    nb.cells.append(cell)\n",
    "\n",
    "    # Write the notebook to a file\n",
    "    with open('/workspace/STEP2-Runme.ipynb', 'w') as f:\n",
    "        nbformat.write(nb, f)\n",
    "\n",
    "    # Clear the cell output\n",
    "    clear_output(wait=True)\n",
    "\n",
    "    # Display a new message\n",
    "    display('Congratulations - now double click on STEP2-Runme.ipynb, run it, and then restart the server.')\n",
    "\n",
    "display(HTML('<h1 style=\"font-size: 2em; font-weight: bold;\">What number would you like this Stable Diffusion icon to be?</h1>'))\n",
    "\n",
    "column1 = []\n",
    "colors = ['#0000ff', '#ff8800', '#ff0088', '#dd8888', '#44bb44', '#00ffff', '#aa0055', '#ffffaa', '#ffaaaa', '#aaffaa']\n",
    "for i in range(1, 6):\n",
    "    button = Button(description=str(i))\n",
    "    button.style.button_color = colors[i-1]\n",
    "    button.on_click(run_script)\n",
    "    column1.append(button)\n",
    "\n",
    "column2 = []\n",
    "for i in range(6, 11):\n",
    "    button = Button(description=str(i))\n",
    "    button.style.button_color = colors[i-1]\n",
    "    button.on_click(run_script)\n",
    "    column2.append(button)\n",
    "\n",
    "display(HBox([VBox(column1), VBox(column2)]))\n",
    "\n",
    "checkbox = Checkbox(description='I use a different directory than /workspace/stable-diffusion-webui')\n",
    "text = Text()\n",
    "label = Label(value='Where is your Stable Diffusion installed?')\n",
    "input_box = VBox([label, text])\n",
    "\n",
    "def on_checkbox_change(change):\n",
    "    if change['new']:\n",
    "        input_box.layout.display = ''\n",
    "    else:\n",
    "        input_box.layout.display = 'none'\n",
    "\n",
    "checkbox.observe(on_checkbox_change, names='value')\n",
    "input_box.layout.display = 'none'\n",
    "\n",
    "display(VBox([checkbox, input_box]))\n",
    "\n",
    "checkbox.layout = Layout(width='500px')\n",
    "text.layout = Layout(width='500px')\n"
   ]
  },
  {
   "cell_type": "code",
   "execution_count": null,
   "id": "d7c9e648-41d2-474c-b26f-20430ec32c1a",
   "metadata": {},
   "outputs": [],
   "source": []
  }
 ],
 "metadata": {
  "kernelspec": {
   "display_name": "Python 3 (ipykernel)",
   "language": "python",
   "name": "python3"
  },
  "language_info": {
   "codemirror_mode": {
    "name": "ipython",
    "version": 3
   },
   "file_extension": ".py",
   "mimetype": "text/x-python",
   "name": "python",
   "nbconvert_exporter": "python",
   "pygments_lexer": "ipython3",
   "version": "3.10.12"
  }
 },
 "nbformat": 4,
 "nbformat_minor": 5
}
